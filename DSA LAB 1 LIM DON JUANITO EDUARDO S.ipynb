{
 "cells": [
  {
   "cell_type": "markdown",
   "metadata": {},
   "source": [
    "Exercise 1: Temperature Converter\n",
    "Create a program that converts temperatures between Celsius and Fahrenheit.\n",
    "Instructions:\n",
    "1.\tAsk the user to input a temperature.\n",
    "2.\tAsk the user to select the conversion type: from Celsius to Fahrenheit or from Fahrenheit to Celsius.\n",
    "3.\tPerform the appropriate conversion and print the result."
   ]
  },
  {
   "cell_type": "code",
   "execution_count": null,
   "metadata": {},
   "outputs": [],
   "source": [
    "temperature = float(input(\"Enter a temperature: \"))\n",
    "\n",
    "print(\"Select the conversion type:\")\n",
    "print(\"1. From Celsius to Fahrenheit\")\n",
    "print(\"2. From Fahrenheit to Celsius\")\n",
    "conversion_type = int(input(\"Enter your choice (1 or 2): \"))\n",
    "\n",
    "if conversion_type == 1:\n",
    "    result = (temperature * 5/9) + 32\n",
    "    print(f\"{temperature}°C is equal to {result}°F\")\n",
    "elif conversion_type == 2:\n",
    "    result = (temperature - 32) * 5/9\n",
    "    print(f\"{temperature}°F is equal to {result}°C\")\n",
    "else:\n",
    "    print(\"Invalid conversion type. Please try again.\")"
   ]
  },
  {
   "cell_type": "markdown",
   "metadata": {},
   "source": [
    "Exercise 2: Ohm’s Law Calculator\n",
    "Instructions:\n",
    "1.\tAsk the user what they want to calculate: Voltage, Current, or Resistance.\n",
    "2.\tBased on their choice, prompt the user to input the appropriate values.\n",
    "3.\tUse Ohm's Law to calculate the missing variable and display the result.\n",
    "4.\tHandle cases where division by zero might occur."
   ]
  },
  {
   "cell_type": "code",
   "execution_count": null,
   "metadata": {},
   "outputs": [],
   "source": [
    "def ohms_law_calculator():\n",
    "    print(\"Ohm's Law Calculator\")\n",
    "    print(\"1. Calculate Current\")\n",
    "    print(\"2. Calculate Voltage\")\n",
    "    print(\"3. Calculate Resistance\")\n",
    "    choice = int(input(\"Enter your choice: \"))\n",
    "\n",
    "    if choice == 1:\n",
    "        voltage = float(input(\"Enter voltage: \"))\n",
    "        resistance = float(input(\"Enter resistance: \"))\n",
    "        current = voltage / resistance\n",
    "        print(f\"Current: {current} A\")\n",
    "\n",
    "    elif choice == 2:\n",
    "        current = float(input(\"Enter current: \"))\n",
    "        resistance = float(input(\"Enter resistance: \"))\n",
    "        voltage = current * resistance\n",
    "        print(f\"Voltage: {voltage} V\")\n",
    "\n",
    "    elif choice == 3:\n",
    "        voltage = float(input(\"Enter voltage: \"))\n",
    "        current = float(input(\"Enter current: \"))\n",
    "        resistance = voltage / current\n",
    "        print(f\"Resistance: {resistance} ohms\")\n",
    "\n",
    "    else:\n",
    "        print(\"Invalid choice\")\n",
    "\n",
    "ohms_law_calculator()"
   ]
  },
  {
   "cell_type": "markdown",
   "metadata": {},
   "source": [
    "Exercise 3:  Diamond Shape (advance topic):\n",
    "\n",
    "Write a Python function named print_diamond that takes an odd integer n as an argument and prints a diamond shape with a width of n using the * character.\n",
    "Note: If an even number is passed, the function should return \"Please provide an odd integer.\""
   ]
  },
  {
   "cell_type": "code",
   "execution_count": null,
   "metadata": {},
   "outputs": [],
   "source": [
    "number = int(input(\"Enter a number: \"))\n",
    "n = number\n",
    "\n",
    "def print_diamond(n):\n",
    "    if n % 2 == 0:\n",
    "        return print(\"Please provide an odd integer.\")\n",
    "\n",
    "    # Calculate the middle row index\n",
    "    mid_row = n // 2\n",
    "\n",
    "    # Print the top half of the diamond\n",
    "    for i in range(mid_row + 1):\n",
    "        # Calculate the number of spaces and stars for the current row\n",
    "        num_spaces = mid_row - i\n",
    "        num_stars = 2 * i + 1\n",
    "        print(' ' * num_spaces + '*' * num_stars)\n",
    "\n",
    "    # Print the bottom half of the diamond\n",
    "    for i in range(mid_row - 1, -1, -1):\n",
    "        # Calculate the number of spaces and stars for the current row\n",
    "        num_spaces = mid_row - i\n",
    "        num_stars = 2 * i + 1\n",
    "        print(' ' * num_spaces + '*' * num_stars)\n",
    "\n",
    "print_diamond(n)"
   ]
  }
 ],
 "metadata": {
  "kernelspec": {
   "display_name": "Python 3",
   "language": "python",
   "name": "python3"
  },
  "language_info": {
   "codemirror_mode": {
    "name": "ipython",
    "version": 3
   },
   "file_extension": ".py",
   "mimetype": "text/x-python",
   "name": "python",
   "nbconvert_exporter": "python",
   "pygments_lexer": "ipython3",
   "version": "3.12.0"
  }
 },
 "nbformat": 4,
 "nbformat_minor": 2
}
